{
 "cells": [
  {
   "cell_type": "code",
   "execution_count": 1,
   "id": "b8892159",
   "metadata": {},
   "outputs": [],
   "source": [
    "import plumbum"
   ]
  },
  {
   "cell_type": "code",
   "execution_count": 2,
   "id": "4e3c4581",
   "metadata": {},
   "outputs": [],
   "source": [
    "import pandas as pd"
   ]
  },
  {
   "cell_type": "code",
   "execution_count": null,
   "id": "ee247522",
   "metadata": {},
   "outputs": [],
   "source": [
    "dfs = []\n",
    "\n",
    "for n in [20, 30, 50, 100]:\n",
    "    for m in [n, int(1.1 * n), int(1.2 * n), int(1.5 * n), int(2 * n), int(3 * n)]:\n",
    "        for method in [ 'dfs', 'gadag' ]:\n",
    "            for connectivity in [1, 2, 3]:\n",
    "                number = 2\n",
    "                \n",
    "                res_file = 'res.csv'\n",
    "                plumbum.local['./scripts/run_tests.py'][\n",
    "                    '-n', n\n",
    "                ][\n",
    "                    '-m', m\n",
    "                ][\n",
    "                    '--cnt', 10\n",
    "                ][]\n",
    "\n",
    "                dfs.append(pd.read_csv(res_file))\n",
    "                \n",
    "df = pd.concat(dfs)"
   ]
  }
 ],
 "metadata": {
  "kernelspec": {
   "display_name": "Python 3 (ipykernel)",
   "language": "python",
   "name": "python3"
  },
  "language_info": {
   "codemirror_mode": {
    "name": "ipython",
    "version": 3
   },
   "file_extension": ".py",
   "mimetype": "text/x-python",
   "name": "python",
   "nbconvert_exporter": "python",
   "pygments_lexer": "ipython3",
   "version": "3.8.10"
  }
 },
 "nbformat": 4,
 "nbformat_minor": 5
}
